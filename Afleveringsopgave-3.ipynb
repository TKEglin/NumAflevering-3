{
 "cells": [
  {
   "cell_type": "markdown",
   "metadata": {},
   "source": [
    "# Afleveringsopgave 3"
   ]
  },
  {
   "cell_type": "code",
   "execution_count": 47,
   "metadata": {},
   "outputs": [],
   "source": [
    "import numpy as np"
   ]
  },
  {
   "cell_type": "code",
   "execution_count": 48,
   "metadata": {},
   "outputs": [],
   "source": [
    "import matplotlib.pyplot as plt"
   ]
  },
  {
   "cell_type": "markdown",
   "metadata": {},
   "source": [
    "##### a)"
   ]
  },
  {
   "cell_type": "code",
   "execution_count": 49,
   "metadata": {},
   "outputs": [
    {
     "data": {
      "image/png": "[encoded data removed]",
      "text/plain": [
       "<Figure size 432x288 with 1 Axes>"
      ]
     },
     "metadata": {
      "needs_background": "light"
     },
     "output_type": "display_data"
    },
    {
     "name": "stdout",
     "output_type": "stream",
     "text": [
      "\n",
      "\n"
     ]
    }
   ],
   "source": [
    "tid = [2.0, 5.0, 8.0, 10.0, 11.0]\n",
    "temperatur = [30.0, 40.0, 50.0, 65.0, 70.0]\n",
    "\n",
    "fig, ax = plt.subplots()\n",
    "ax.plot(tid, temperatur)\n",
    "plt.show()\n",
    "print(\"\\n\")"
   ]
  },
  {
   "cell_type": "markdown",
   "metadata": {},
   "source": [
    "##### b)"
   ]
  },
  {
   "cell_type": "markdown",
   "metadata": {},
   "source": [
    "Vi har en andengradsligning:\n",
    "\n",
    "p(x) = a + b * x + c * x**2 \n",
    "\n",
    "Med den kan opstille et ligningssytem, hvor a, b og c er de eneste ubekendte:\n",
    "\n",
    "50.0 = a + 8b + 64c \n",
    "\n",
    "65.0 = a + 10b + 100c\n",
    "\n",
    "70.0 = a + 11b + 121\n",
    "\n"
   ]
  },
  {
   "cell_type": "code",
   "execution_count": 51,
   "metadata": {},
   "outputs": [
    {
     "data": {
      "text/plain": [
       "array([[  1.,   8.,  64.,  50.],\n",
       "       [  1.,  10., 100.,  65.],\n",
       "       [  1.,  11., 121.,  70.]])"
      ]
     },
     "execution_count": 51,
     "metadata": {},
     "output_type": "execute_result"
    }
   ],
   "source": [
    "A = np.array([[1.0, 8.0, 64.0],\n",
    "              [1.0, 10.0, 100.0],\n",
    "              [1.0, 11.0, 121.0]])\n",
    "\n",
    "B = np.array([50.0, 65.0, 70.0])[:, np.newaxis]\n",
    "\n",
    "C = np.hstack([A,B])\n",
    "C\n"
   ]
  },
  {
   "cell_type": "code",
   "execution_count": 52,
   "metadata": {},
   "outputs": [
    {
     "data": {
      "text/plain": [
       "array([[ 1.        ,  8.        , 64.        , 50.        ],\n",
       "       [ 0.        ,  1.        , 18.        ,  7.5       ],\n",
       "       [ 0.        ,  0.        ,  1.        , -0.83333333]])"
      ]
     },
     "execution_count": 52,
     "metadata": {},
     "output_type": "execute_result"
    }
   ],
   "source": [
    "C[[1,2],:] -= C[0,:]        # Først trækker vi række 0 fra 1 og 2 for at få 0 i søjle 0\n",
    "C[2,:] -= 3/2 * C[1,:]      # Nu trækker vi en skaleret søjle 1 fra 2, for at få 0 i søjle 1\n",
    "C[1,:] *= 1/2               # Til sidst bruger vi skalarer til at etablere pivotelementerne\n",
    "C[2,:] *= 1/3\n",
    "C"
   ]
  },
  {
   "cell_type": "code",
   "execution_count": 53,
   "metadata": {},
   "outputs": [
    {
     "data": {
      "text/plain": [
       "array([[  1.        ,   0.        ,   0.        , -76.66666667],\n",
       "       [  0.        ,   1.        ,   0.        ,  22.5       ],\n",
       "       [  0.        ,   0.        ,   1.        ,  -0.83333333]])"
      ]
     },
     "execution_count": 53,
     "metadata": {},
     "output_type": "execute_result"
    }
   ],
   "source": [
    "C[1,:] -= 18 * C[2,:]               # Nu reducerer vi koefficientmatricen til en indentitsmatrice for at finde løsningen\n",
    "C[0,:] -= 64 * C[2,:] + 8 * C[1,:]\n",
    "C"
   ]
  },
  {
   "cell_type": "code",
   "execution_count": 61,
   "metadata": {},
   "outputs": [
    {
     "data": {
      "text/plain": [
       "(-76.66666666666667, 22.5, -0.8333333333333333)"
      ]
     },
     "execution_count": 61,
     "metadata": {},
     "output_type": "execute_result"
    }
   ],
   "source": [
    "a, b, c = C[:,3]\n",
    "a, b, c #Løsningerne på ligningssystemet "
   ]
  },
  {
   "cell_type": "code",
   "execution_count": 62,
   "metadata": {},
   "outputs": [
    {
     "data": {
      "image/png": "[encoded data removed]",
      "text/plain": [
       "<Figure size 432x288 with 1 Axes>"
      ]
     },
     "metadata": {
      "needs_background": "light"
     },
     "output_type": "display_data"
    }
   ],
   "source": [
    "x = np.linspace(2, 12, 200)\n",
    "\n",
    "y = a + b * x + c * x**2   \n",
    "\n",
    "fig, ax = plt.subplots() # Tegning \n",
    "ax.plot(x, y)\n",
    "ax.plot(tid, temperatur)\n",
    "plt.show()"
   ]
  },
  {
   "cell_type": "markdown",
   "metadata": {},
   "source": [
    "Her kan vi se, at polynomiet passer rimelig godt på vores data i intervallet mellem vores tre punkter. Bevæger vi os ud herfra, afviger funktionen dog hurtigt fra vores data."
   ]
  },
  {
   "cell_type": "markdown",
   "metadata": {},
   "source": [
    "c)"
   ]
  },
  {
   "cell_type": "code",
   "execution_count": null,
   "metadata": {},
   "outputs": [],
   "source": []
  }
 ],
 "metadata": {
  "interpreter": {
   "hash": "31812fd69f6bc3ef162e702bb227450a9a85a2250f4cd7e9f79dcc0291d26e87"
  },
  "kernelspec": {
   "display_name": "Python 3.9.7 ('base')",
   "language": "python",
   "name": "python3"
  },
  "language_info": {
   "codemirror_mode": {
    "name": "ipython",
    "version": 3
   },
   "file_extension": ".py",
   "mimetype": "text/x-python",
   "name": "python",
   "nbconvert_exporter": "python",
   "pygments_lexer": "ipython3",
   "version": "3.9.7"
  },
  "orig_nbformat": 4
 },
 "nbformat": 4,
 "nbformat_minor": 2
}
